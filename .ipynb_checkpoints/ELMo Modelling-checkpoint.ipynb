{
 "cells": [
  {
   "cell_type": "code",
   "execution_count": 9,
   "id": "established-elite",
   "metadata": {},
   "outputs": [],
   "source": [
    "import warnings\n",
    "warnings.filterwarnings(\"ignore\")\n",
    "import pickle\n",
    "import numpy as np\n",
    "import pandas as pd\n",
    "import json\n",
    "from textblob import TextBlob\n",
    "import nltk\n",
    "from scipy import spatial\n",
    "import torch\n",
    "import spacy"
   ]
  },
  {
   "cell_type": "code",
   "execution_count": 23,
   "id": "straight-principle",
   "metadata": {},
   "outputs": [],
   "source": [
    "#import training dataset\n",
    "#train = open('data/train/train_QA.xlsx',)\n",
    "train = pd.read_excel(r'data/train/train_QA.xlsx')"
   ]
  },
  {
   "cell_type": "code",
   "execution_count": 24,
   "id": "changing-repair",
   "metadata": {},
   "outputs": [
    {
     "data": {
      "text/html": [
       "<div>\n",
       "<style scoped>\n",
       "    .dataframe tbody tr th:only-of-type {\n",
       "        vertical-align: middle;\n",
       "    }\n",
       "\n",
       "    .dataframe tbody tr th {\n",
       "        vertical-align: top;\n",
       "    }\n",
       "\n",
       "    .dataframe thead th {\n",
       "        text-align: right;\n",
       "    }\n",
       "</style>\n",
       "<table border=\"1\" class=\"dataframe\">\n",
       "  <thead>\n",
       "    <tr style=\"text-align: right;\">\n",
       "      <th></th>\n",
       "      <th>question</th>\n",
       "      <th>id</th>\n",
       "      <th>answers</th>\n",
       "      <th>is_impossible</th>\n",
       "      <th>contextID</th>\n",
       "      <th>plausible_answers</th>\n",
       "    </tr>\n",
       "  </thead>\n",
       "  <tbody>\n",
       "    <tr>\n",
       "      <th>0</th>\n",
       "      <td>How many main geographical sections make up No...</td>\n",
       "      <td>5727605b5951b619008f88e9</td>\n",
       "      <td>[{'text': 'three', 'answer_start': 27}]</td>\n",
       "      <td>False</td>\n",
       "      <td>1</td>\n",
       "      <td>NaN</td>\n",
       "    </tr>\n",
       "    <tr>\n",
       "      <th>1</th>\n",
       "      <td>What section of North carolina makes up 45% of...</td>\n",
       "      <td>5727605b5951b619008f88ea</td>\n",
       "      <td>[{'text': 'Atlantic Coastal Plain', 'answer_st...</td>\n",
       "      <td>False</td>\n",
       "      <td>1</td>\n",
       "      <td>NaN</td>\n",
       "    </tr>\n",
       "    <tr>\n",
       "      <th>2</th>\n",
       "      <td>What is the section in the middle 35% of North...</td>\n",
       "      <td>5727605b5951b619008f88eb</td>\n",
       "      <td>[{'text': 'the Piedmont region', 'answer_start...</td>\n",
       "      <td>False</td>\n",
       "      <td>1</td>\n",
       "      <td>NaN</td>\n",
       "    </tr>\n",
       "    <tr>\n",
       "      <th>3</th>\n",
       "      <td>Tha Appalacian mountains and foothills make up...</td>\n",
       "      <td>5727605b5951b619008f88ec</td>\n",
       "      <td>[{'text': 'North Carolina', 'answer_start': 0}]</td>\n",
       "      <td>False</td>\n",
       "      <td>1</td>\n",
       "      <td>NaN</td>\n",
       "    </tr>\n",
       "    <tr>\n",
       "      <th>4</th>\n",
       "      <td>The extreme eastern section of North Carolina ...</td>\n",
       "      <td>5727605b5951b619008f88ed</td>\n",
       "      <td>[{'text': 'Outer Banks', 'answer_start': 283}]</td>\n",
       "      <td>False</td>\n",
       "      <td>1</td>\n",
       "      <td>NaN</td>\n",
       "    </tr>\n",
       "  </tbody>\n",
       "</table>\n",
       "</div>"
      ],
      "text/plain": [
       "                                            question  \\\n",
       "0  How many main geographical sections make up No...   \n",
       "1  What section of North carolina makes up 45% of...   \n",
       "2  What is the section in the middle 35% of North...   \n",
       "3  Tha Appalacian mountains and foothills make up...   \n",
       "4  The extreme eastern section of North Carolina ...   \n",
       "\n",
       "                         id  \\\n",
       "0  5727605b5951b619008f88e9   \n",
       "1  5727605b5951b619008f88ea   \n",
       "2  5727605b5951b619008f88eb   \n",
       "3  5727605b5951b619008f88ec   \n",
       "4  5727605b5951b619008f88ed   \n",
       "\n",
       "                                             answers  is_impossible  \\\n",
       "0            [{'text': 'three', 'answer_start': 27}]          False   \n",
       "1  [{'text': 'Atlantic Coastal Plain', 'answer_st...          False   \n",
       "2  [{'text': 'the Piedmont region', 'answer_start...          False   \n",
       "3    [{'text': 'North Carolina', 'answer_start': 0}]          False   \n",
       "4     [{'text': 'Outer Banks', 'answer_start': 283}]          False   \n",
       "\n",
       "   contextID plausible_answers  \n",
       "0          1               NaN  \n",
       "1          1               NaN  \n",
       "2          1               NaN  \n",
       "3          1               NaN  \n",
       "4          1               NaN  "
      ]
     },
     "execution_count": 24,
     "metadata": {},
     "output_type": "execute_result"
    }
   ],
   "source": [
    "train.head()"
   ]
  },
  {
   "cell_type": "code",
   "execution_count": null,
   "id": "handled-climate",
   "metadata": {},
   "outputs": [],
   "source": []
  }
 ],
 "metadata": {
  "kernelspec": {
   "display_name": "Python 3",
   "language": "python",
   "name": "python3"
  },
  "language_info": {
   "codemirror_mode": {
    "name": "ipython",
    "version": 3
   },
   "file_extension": ".py",
   "mimetype": "text/x-python",
   "name": "python",
   "nbconvert_exporter": "python",
   "pygments_lexer": "ipython3",
   "version": "3.8.5"
  }
 },
 "nbformat": 4,
 "nbformat_minor": 5
}
