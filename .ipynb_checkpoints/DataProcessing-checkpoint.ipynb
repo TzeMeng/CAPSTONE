{
 "cells": [
  {
   "cell_type": "code",
   "execution_count": 2,
   "metadata": {},
   "outputs": [],
   "source": [
    "import json\n",
    "import pandas as pd"
   ]
  },
  {
   "cell_type": "code",
   "execution_count": 3,
   "metadata": {},
   "outputs": [],
   "source": [
    "# Opening JSON file \n",
    "f = open('data/train-v2.0.json',)\n",
    "\n",
    "# returns JSON object as  \n",
    "# a dictionary \n",
    "data = json.load(f) "
   ]
  },
  {
   "cell_type": "code",
   "execution_count": 4,
   "metadata": {},
   "outputs": [],
   "source": [
    "df = pd.DataFrame.from_dict(data)"
   ]
  },
  {
   "cell_type": "code",
   "execution_count": 5,
   "metadata": {},
   "outputs": [
    {
     "data": {
      "text/html": [
       "<div>\n",
       "<style scoped>\n",
       "    .dataframe tbody tr th:only-of-type {\n",
       "        vertical-align: middle;\n",
       "    }\n",
       "\n",
       "    .dataframe tbody tr th {\n",
       "        vertical-align: top;\n",
       "    }\n",
       "\n",
       "    .dataframe thead th {\n",
       "        text-align: right;\n",
       "    }\n",
       "</style>\n",
       "<table border=\"1\" class=\"dataframe\">\n",
       "  <thead>\n",
       "    <tr style=\"text-align: right;\">\n",
       "      <th></th>\n",
       "      <th>version</th>\n",
       "      <th>data</th>\n",
       "    </tr>\n",
       "  </thead>\n",
       "  <tbody>\n",
       "    <tr>\n",
       "      <th>0</th>\n",
       "      <td>v2.0</td>\n",
       "      <td>{'title': 'Beyoncé', 'paragraphs': [{'qas': [{...</td>\n",
       "    </tr>\n",
       "    <tr>\n",
       "      <th>1</th>\n",
       "      <td>v2.0</td>\n",
       "      <td>{'title': 'Frédéric_Chopin', 'paragraphs': [{'...</td>\n",
       "    </tr>\n",
       "    <tr>\n",
       "      <th>2</th>\n",
       "      <td>v2.0</td>\n",
       "      <td>{'title': 'Sino-Tibetan_relations_during_the_M...</td>\n",
       "    </tr>\n",
       "    <tr>\n",
       "      <th>3</th>\n",
       "      <td>v2.0</td>\n",
       "      <td>{'title': 'IPod', 'paragraphs': [{'qas': [{'qu...</td>\n",
       "    </tr>\n",
       "    <tr>\n",
       "      <th>4</th>\n",
       "      <td>v2.0</td>\n",
       "      <td>{'title': 'The_Legend_of_Zelda:_Twilight_Princ...</td>\n",
       "    </tr>\n",
       "  </tbody>\n",
       "</table>\n",
       "</div>"
      ],
      "text/plain": [
       "  version                                               data\n",
       "0    v2.0  {'title': 'Beyoncé', 'paragraphs': [{'qas': [{...\n",
       "1    v2.0  {'title': 'Frédéric_Chopin', 'paragraphs': [{'...\n",
       "2    v2.0  {'title': 'Sino-Tibetan_relations_during_the_M...\n",
       "3    v2.0  {'title': 'IPod', 'paragraphs': [{'qas': [{'qu...\n",
       "4    v2.0  {'title': 'The_Legend_of_Zelda:_Twilight_Princ..."
      ]
     },
     "execution_count": 5,
     "metadata": {},
     "output_type": "execute_result"
    }
   ],
   "source": [
    "df.head()"
   ]
  },
  {
   "cell_type": "code",
   "execution_count": 6,
   "metadata": {},
   "outputs": [
    {
     "data": {
      "text/html": [
       "<div>\n",
       "<style scoped>\n",
       "    .dataframe tbody tr th:only-of-type {\n",
       "        vertical-align: middle;\n",
       "    }\n",
       "\n",
       "    .dataframe tbody tr th {\n",
       "        vertical-align: top;\n",
       "    }\n",
       "\n",
       "    .dataframe thead th {\n",
       "        text-align: right;\n",
       "    }\n",
       "</style>\n",
       "<table border=\"1\" class=\"dataframe\">\n",
       "  <thead>\n",
       "    <tr style=\"text-align: right;\">\n",
       "      <th></th>\n",
       "      <th>data</th>\n",
       "    </tr>\n",
       "  </thead>\n",
       "  <tbody>\n",
       "    <tr>\n",
       "      <th>0</th>\n",
       "      <td>{'title': 'Beyoncé', 'paragraphs': [{'qas': [{...</td>\n",
       "    </tr>\n",
       "    <tr>\n",
       "      <th>1</th>\n",
       "      <td>{'title': 'Frédéric_Chopin', 'paragraphs': [{'...</td>\n",
       "    </tr>\n",
       "    <tr>\n",
       "      <th>2</th>\n",
       "      <td>{'title': 'Sino-Tibetan_relations_during_the_M...</td>\n",
       "    </tr>\n",
       "    <tr>\n",
       "      <th>3</th>\n",
       "      <td>{'title': 'IPod', 'paragraphs': [{'qas': [{'qu...</td>\n",
       "    </tr>\n",
       "    <tr>\n",
       "      <th>4</th>\n",
       "      <td>{'title': 'The_Legend_of_Zelda:_Twilight_Princ...</td>\n",
       "    </tr>\n",
       "  </tbody>\n",
       "</table>\n",
       "</div>"
      ],
      "text/plain": [
       "                                                data\n",
       "0  {'title': 'Beyoncé', 'paragraphs': [{'qas': [{...\n",
       "1  {'title': 'Frédéric_Chopin', 'paragraphs': [{'...\n",
       "2  {'title': 'Sino-Tibetan_relations_during_the_M...\n",
       "3  {'title': 'IPod', 'paragraphs': [{'qas': [{'qu...\n",
       "4  {'title': 'The_Legend_of_Zelda:_Twilight_Princ..."
      ]
     },
     "execution_count": 6,
     "metadata": {},
     "output_type": "execute_result"
    }
   ],
   "source": [
    "df = pd.DataFrame.from_dict(df['data'])\n",
    "df.head()"
   ]
  },
  {
   "cell_type": "code",
   "execution_count": 7,
   "metadata": {},
   "outputs": [
    {
     "data": {
      "text/plain": [
       "nnounced that Beyoncé is a co-owner, with various other music artists, in the music streaming service Tidal. The service specialises in lossless audio and high definition music videos. Beyoncé\\'s husband Jay Z acquired the parent company of Tidal, Aspiro, in the first quarter of 2015. Including Beyoncé and Jay-Z, sixteen artist stakeholders (such as Kanye West, Rihanna, Madonna, Chris Martin, Nicki Minaj and more) co-own Tidal, with the majority owning a 3% equity stake. The idea of having an all artist owned streaming service was created by those involved to adapt to the increased demand for streaming within the current music industry, and to rival other streaming services such as Spotify, which have been criticised for their low payout of royalties. \"The challenge is to get everyone to respect music again, to recognize its value\", stated Jay-Z on the release of Tidal.'},\n",
       "  {'qas': [{'question': \"House of Dereon became known through Beyonce and which of Beyonce's relatives?\",\n",
       "     'id': '56bed32f3aeaaa14008c94cf',\n",
       "     'answers': [{'text': 'her mother', 'answer_start': 12}],\n",
       "     'is_impossible': False},\n",
       "    {'question': \"Beyonce's grandma's name was?\",\n",
       "     'id': '56bed32f3aeaaa14008c94d0',\n",
       "     'answers': [{'text': 'Agnèz Deréon', 'answer_start': 218}],\n",
       "     'is_impossible': False},\n",
       "    {'question': \"Beyonce's family's company name is what?\",\n",
       "     'id': '56bed32f3aeaaa14008c94d1',\n",
       "     'answers': [{'text': 'Beyond Productions', 'answer_start': 408}],\n",
       "     'is_impossible': False},\n",
       "    {'question': \"What types of garments are sold by Beyonce's clothing line?\",\n",
       "     'id': '56bed32f3aeaaa14008c94d2',\n",
       "     'answers': [{'text': 'sportswear, denim offerings with fur, outerwear and accessories that include handbags and footwear',\n",
       "       'answer_start': 670}],\n",
       "     'is_impossible': False},\n",
       "    {'question': \"Which two countries can you purchase Beyonce's clothing line?\",\n",
       "     'id': '56bed32f3aeaaa14008c94d3',\n",
       "     'answers': [{'text': 'US and Canada', 'answer_start': 834}],\n",
       "     'is_impossible': False},\n",
       "    {'question': 'Who partnered with Beyonce to start the clothing line, Dereon?',\n",
       "     'id': '56bfe2a2a10cfb1400551369',\n",
       "     'answers': [{'text': 'her mother', 'answer_start': 12}],\n",
       "     'is_impossible': False},\n",
       "    {'question': 'When did Beyonce and her mother start Dereon?',\n",
       "     'id': '56bfe2a2a10cfb140055136a',\n",
       "     'answers': [{'text': '2005', 'answer_start': 91}],\n",
       "     'is_impossible': False},\n",
       "    {'question': \"Who was the business named for in Beyonce's family?\",\n",
       "     'id': '56bfe2a2a10cfb140055136b',\n",
       "     'answers': [{'text': 'grandmother, Agnèz Deréon', 'answer_start': 205}],\n",
       "     'is_impossible': False},\n",
       "    {'question': 'Where were items from the clothing line displayed?',\n",
       "     'id': '56bfe2a2a10cfb140055136c',\n",
       "     'answers': [{'text': \"in Destiny's Child's shows and tours\",\n",
       "       'answer_start': 572}],\n",
       "     'is_impossible': False},\n",
       "    {'question': 'Who shares in the House of Deréon fashion line introduction with Beyoncé?',\n",
       "     'id': '56d4f6922ccc5a1400d83394',\n",
       "     'answers': [{'text': 'her mother', 'answer_start': 12}],\n",
       "     'is_impossible': False},\n",
       "    {'question': 'What is the name of the House of Deréon junior collection?',\n",
       "     'id': '56d4f6922ccc5a1400d83397',\n",
       "     'answers': [{'text': 'Deréon.', 'answer_start': 526}],\n",
       "     'is_impossible': False}],\n",
       "   'context': \"Beyoncé and her mother introduced House of Deréon, a contemporary women's fashion line, in 2005. The concept is inspired by three generations of women in their family, the name paying tribute to Beyoncé's grandmother, Agnèz Deréon, a respected seamstress. According to Tina, the overall style of the line best reflects her and Beyoncé's taste and style. Beyoncé and her mother founded their family's company Beyond Productions, which provides the licensing and brand management for House of Deréon, and its junior collection, Deréon. House of Deréon pieces were exhibited in Destiny's Child's shows and tours, during their Destiny Fulfilled era. The collection features sportswear, denim offerings with fur, outerwear and accessories that include handbags and footwear, and are available at department and specialty stores across the US and Canada.\"},\n",
       "  {'qas': [{'question': 'What type of accessory company did Beyonce partner with in 2005?',\n",
       "     'id': '56bed38e3aeaaa14008c94d9',\n",
       "     'answers': [{'text': 'shoe', 'answer_start': 51}],\n",
       "     'is_impossible': False},\n",
       "    {'question': 'In 2010, Beyonce released Dereon to what country?',\n",
       "     'id': '56bed38e3aeaaa14008c94da',\n",
       "     'answers': [{'text': 'Brazil', 'answer_start': 741}],\n",
       "     'is_impossible': False},\n",
       "    {'question': \"Back-to-school shopping was introduced in what year of Beyonce's clothing line?\",\n",
       "     'id': '56bed38e3aeaaa14008c94db',\n",
       "     'answers': [{'text': '2009', 'answer_start': 294}],\n",
       "     'is_impossible': False},\n",
       "    {'question': \"What did Beyonce's Fashion Diva  feature?\",\n",
       "     'id': '56bfe4dfa10cfb1400551374',\n",
       "     'answers': [{'text': 'House of Deréon collection', 'answer_start': 258}],\n",
       "     'is_impossible': False},\n",
       "    {'question': 'What new idea did Beyonce and her mother launch in 2009?',\n",
       "     'id': '56bfe4dfa10cfb1400551375',\n",
       "     'answers': [{'text': 'Sasha Fierce for Deréon', 'answer_start': 360}],\n",
       "     'is_impossible': False},\n",
       "    {'question': 'When did Beyonce partner with C&A to sell fashion in Brazil?',\n",
       "     'id': '56bfe4dfa10cfb1400551377',\n",
       "     'answers': [{'text': 'May 27, 2010', 'answer_start': 638}],\n",
       "     'is_impossible': False},\n",
       "    {'question': 'What company did Beyoncé get together with in 2005 to add shoes to her fashions?',\n",
       "     'id': '56d4f6e02ccc5a1400d8339e',\n",
       "     'answers': [{'text': 'House of Brands', 'answer_start': 32}],\n",
       "     'is_impossible': False},\n",
       "    {'question': 'What was the name of the game put out by Starwave Mobile in 2008 that featured Beyoncé fashions?',\n",
       "     'id': '56d4f6e02ccc5a1400d8339f',\n",
       "     'answers': [{'text': 'Beyoncé Fashion Diva', 'answer_start': 159}],\n",
       "     'is_impossible': False},\n",
       "    {'question': 'What was the name of the junior fashions launched in 2009 by Beyoncé and her mother?',\n",
       "     'id': '56d4f6e02ccc5a1400d833a0',\n",
       "     'answers': [{'text': 'Sasha Fierce for Deréon', 'answer_start': 360}],\n",
       "     'is_impossible': False},\n",
       "    {'question': 'Who did Beyoncé team up with in 2010 to get her fashions into Brazil?',\n",
       "     'id': '56d4f6e02ccc5a1400d833a1',\n",
       "     'answers': [{'text': 'C&A', 'answer_start': 690}],\n",
       "     'is_impossible': False},\n",
       "    {'question': \"Sasha Fierce for Deréon fashions were sold at stores that included Macy's and what other store?\",\n",
       "     'id': '56d4f6e02ccc5a1400d833a2',\n",
       "     'answers': [{'text': \"Dillard's\", 'answer_start': 570}],\n",
       "     'is_impossible': False}],\n",
       "   'context': 'In 2005, Beyoncé teamed up with House of Brands, a shoe company, to produce a range of footwear for House of Deréon. In January 2008, Starwave Mobile launched Beyoncé Fashion Diva, a \"high-style\" mobile game with a social networking component, featuring the House of Deréon collection. In July 2009, Beyoncé and her mother launched a new junior apparel label, Sasha Fierce for Deréon, for back-to-school selling. The collection included sportswear, outerwear, handbags, footwear, eyewear, lingerie and jewelry. It was available at department stores including Macy\\'s and Dillard\\'s, and specialty stores Jimmy Jazz and Against All Odds. On May 27, 2010, Beyoncé teamed up with clothing store C&A to launch Deréon by Beyoncé at their stores in Brazil. The collection included tailored blazers with padded shoulders, little black dresses, embroidered tops and shirts and bandage dresses.'},\n",
       "  {'qas': [{'question': 'Beyonce, during October 2014, partnered with whom to produce an outdoor line of clothing?',\n",
       "     'id': '56bed3e63aeaaa14008c94e0',\n",
       "     'answers': [{'text': 'Topshop', 'answer_start': 110}],\n",
       "     'is_impossible': False},\n",
       "    {'question': 'Beyonce and Topshops first products were to be sold in stores when?',\n",
       "     'id': '56bed3e63aeaaa14008c94e1',\n",
       "     'answers': [{'text': 'autumn 2015', 'answer_start': 250}],\n",
       "     'is_impossible': False},\n",
       "    {'question': 'What is the new business called?',\n",
       "     'id': '56bfe66ea10cfb140055137e',\n",
       "     'answers': [{'text': 'Parkwood Topshop Athletic Ltd',\n",
       "       'answer_start': 147}],\n",
       "     'is_impossible': False},\n",
       "    {'question': \"What is Beyonce's percentage of ownership in the new venture?\",\n",
       "     'id': '56bfe66ea10cfb1400551380',\n",
       "     'answers': [{'text': '50', 'answer_start': 126}],\n",
       "     'is_impossible': False},\n",
       "    {'question': 'When will the full line appear?',\n",
       "     'id': '56bfe66ea10cfb1400551381',\n",
       "     'answers': [{'text': 'April 2016', 'answer_start': 287}],\n",
       "     'is_impossible': False},\n",
       "    {'question': 'What company did Beyoncé contract with to sell clothing in England?',\n",
       "     'id': '56d4f71e2ccc5a1400d833a8',\n",
       "     'answers': [{'text': 'Topshop', 'answer_start': 110}],\n",
       "     'is_impossible': False},\n",
       "    {'question': \"What is the name of the equal partnership's fashion line between Beyoncé and the British company to come out in 2016?\",\n",
       "     'id': '56d4f71e2ccc5a1400d833a9',\n",
       "     'answers': [{'text': 'Parkwood Topshop Athletic Ltd',\n",
       "       'answer_start': 147}],\n",
       "     'is_impossible': False},\n",
       "    {'question': 'What type of clothing does the British partnership with Beyoncé sell?',\n",
       "     'id': '56d4f71e2ccc5a1400d833aa',\n",
       "     'answers': [{'text': 'activewear', 'answer_start': 52}],\n",
       "     'is_impossible': False}],\n",
       "   'context': 'In October 2014, Beyoncé signed a deal to launch an activewear line of clothing with British fashion retailer Topshop. The 50-50 venture is called Parkwood Topshop Athletic Ltd and is scheduled to launch its first dance, fitness and sports ranges in autumn 2015. The line will launch in April 2016.'},\n",
       "  {'qas': [{'question': 'What national disaster caused Beyonce to create the Survivor Foundation?',\n",
       "     'id': '56bed4553aeaaa14008c94e5',\n",
       "     'answers': [{'text': 'Hurricane Katrina', 'answer_start': 6}],\n",
       "     'is_impossible': False},\n",
       "    {'question': 'How much cash did Beyonce put into the venture, the Survivor Foundation at startup?',\n",
       "     'id': '56bed4553aeaaa14008c94e7',\n",
       "     'answers': [{'text': '250,000', 'answer_start': 191}],\n",
       "     'is_impossible': False},\n",
       "    {'question': 'What hurricane years later after Katrina did the organization provide support for?',\n",
       "     'id': '56bed4553aeaaa14008c94e8',\n",
       "     'answers': [{'text': 'Ike', 'answer_start': 321}],\n",
       "     'is_impossible': False},\n",
       "    {'question': 'What did Beyonce and Rowland found in 2005?',\n",
       "     'id': '56bfe7eaa10cfb1400551387',\n",
       "     'answers': [{'text': 'the Survivor Foundation', 'answer_start': 61}],\n",
       "     'is_impossible': False},\n",
       "    {'question': 'How much did Beyonce initially contribute to the foundation?',\n",
       "     'id': '56bfe7eaa10cfb1400551389',\n",
       "     'answers': [{'text': '$250,000', 'answer_start': 190}],\n",
       "     'is_impossible': False},\n",
       "    {'question': 'How has this foundation changed in recent years?',\n",
       "     'id': '56bfe7eaa10cfb140055138a',\n",
       "     'answers': [{'text': 'expanded to work with other charities',\n",
       "       'answer_start': 225}],\n",
       "     'is_impossible': False},\n",
       "    {'question': 'What foundation did Beyoncé start after Hurricane Katrina?',\n",
       "     'id': '56d4f7a22ccc5a1400d833ae',\n",
       "     'answers': [{'text': 'Survivor Foundation', 'answer_start': 65}],\n",
       "     'is_impossible': False},\n",
       "    {'question': 'How much money did Beyoncé contribute at the beginning of her Hurricane Katrina foundation?',\n",
       "     'id': '56d4f7a22ccc5a1400d833b0',\n",
       "     'answers': [{'text': '$250,000.', 'answer_start': 190}],\n",
       "     'is_impossible': False},\n",
       "    {'question': \"What other hurricane did Beyoncé's foundation help with?\",\n",
       "     'id': '56d4f7a22ccc5a1400d833b1',\n",
       "     'answers': [{'text': 'Hurricane Ike', 'answer_start': 311}],\n",
       "     'is_impossible': False}],\n",
       "   'context': 'After Hurricane Katrina in 2005, Beyoncé and Rowland founded the Survivor Foundation to provide transitional housing for victims in the Houston area, to which Beyoncé contributed an initial $250,000. The foundation has since expanded to work with other charities in the city, and also provided relief following Hurricane Ike three years later.'},\n",
       "  {'qas': [{'question': 'Who did Beyonce participate with in the Hope for Haiti Now: A Global Benefit?',\n",
       "     'id': '56bed4c23aeaaa14008c94ed',\n",
       "     'answers': [{'text': 'George Clooney and Wyclef Jean',\n",
       "       'answer_start': 24}],\n",
       "     'is_impossible': False},\n",
       "    {'question': 'Beyonce opened a cosmetology center in what location?',\n",
       "     'id': '56bed4c23aeaaa14008c94ee',\n",
       "     'answers': [{'text': 'Brooklyn Phoenix House', 'answer_start': 356}],\n",
       "     'is_impossible': False},\n",
       "    {'question': \"After Osama Bin Laden's death, what single did Beyonce cover?\",\n",
       "     'id': '56bed4c23aeaaa14008c94ef',\n",
       "     'answers': [{'text': 'God Bless the USA', 'answer_start': 781}],\n",
       "     'is_impossible': False},\n",
       "    {'question': \"How much did the T-shirt with Beyonce's image on it make? \",\n",
       "     'id': '56bfeb09a10cfb1400551391',\n",
       "     'answers': [{'text': '$1 million', 'answer_start': 253}],\n",
       "     'is_impossible': False},\n",
       "    {'question': 'What enterprise did Beyonce and her mother start on March 5, 2010?',\n",
       "     'id': '56bfeb09a10cfb1400551392',\n",
       "     'answers': [{'text': 'Beyoncé Cosmetology Center at the Brooklyn Phoenix House',\n",
       "       'answer_start': 322}],\n",
       "     'is_impossible': False},\n",
       "    {'question': 'What charity benefited from  the release of the song, God Bless the USA?',\n",
       "     'id': '56bfeb09a10cfb1400551394',\n",
       "     'answers': [{'text': \"New York Police and Fire Widows' and Children's Benefit Fund\",\n",
       "       'answer_start': 849}],\n",
       "     'is_impossible': False},\n",
       "    {'question': 'What did she participate in with George Clooney?',\n",
       "     'id': '56bfeb09a10cfb1400551395',\n",
       "     'answers': [{'text': 'Hope for Haiti Now: A Global Benefit',\n",
       "       'answer_start': 57}],\n",
       "     'is_impossible': False},\n",
       "    {'question': 'Which two stars did Beyoncé help with their Haiti Earthquake organization?',\n",
       "     'id': '56d4f9112ccc5a1400d833b6',\n",
       "     'answers': [{'text': 'George Clooney and Wyclef Jean',\n",
       "       'answer_start': 24}],\n",
       "     'is_impossible': False},\n",
       "    {'question': 'What did Beyoncé open at the Brooklyn Phoenix House in 2010?',\n",
       "     'id': '56d4f9112ccc5a1400d833b7',\n",
       "     'answers': [{'text': 'Beyoncé Cosmetology Center', 'answer_start': 322}],\n",
       "     'is_impossible': False},\n",
       "    {'question': 'What Lee Greenwood song did Beyoncé cover after Osama bin Laden was killed?',\n",
       "     'id': '56d4f9112ccc5a1400d833ba',\n",
       "     'answers': [{'text': 'God Bless the USA', 'answer_start': 781}],\n",
       "     'is_impossible': False}],\n",
       "   'context': 'Beyoncé participated in George Clooney and Wyclef Jean\\'s Hope for Haiti Now: A Global Benefit for Earthquake Relief telethon and was named the official face of the limited edition CFDA \"Fashion For Haiti\" T-shirt, made by Theory which raised a total of $1 million. On March 5, 2010, Beyoncé and her mother Tina opened the Beyoncé Cosmetology Center at the Brooklyn Phoenix House, offering a seven-month cosmetology training course for men and women. In April 2011, Beyoncé joined forces with US First Lady Michelle Obama and the National Association of Broadcasters Education Foundation, to help boost the latter\\'s campaign against child obesity by reworking her single \"Get Me Bodied\". Following the death of Osama bin Laden, Beyoncé released her cover of the Lee Greenwood song \"God Bless the USA\", as a charity single to help raise funds for the New York Police and Fire Widows\\' and Children\\'s Benefit Fund.'},\n",
       "  {'qas': [{'question': 'Which national event caused Beyonce to produce \"Demand a Plan?\"',\n",
       "     'id': '56bed5983aeaaa14008c94f3',\n",
       "     'answers': [{'text': 'Sandy Hook Elementary School shooting',\n",
       "       'answer_start': 280}],\n",
       "     'is_impossible': False},\n",
       "    {'question': 'What song did Beyonce contribute to the campaign?',\n",
       "     'id': '56bed5983aeaaa14008c94f4',\n",
       "     'answers': [{'text': 'I Was Here', 'answer_start': 412}],\n",
       "     'is_impossible': False},\n",
       "    {'question': 'Beyonce is contributing to which food-donation campaign?',\n",
       "     'id': '56bed5983aeaaa14008c94f5',\n",
       "     'answers': [{'text': 'Miss a Meal', 'answer_start': 1553}],\n",
       "     'is_impossible': False},\n",
       "    {'question': 'On June 1 , 2013 where was the concert held for \"a Chime for Change\"?',\n",
       "     'id': '56bed5983aeaaa14008c94f6',\n",
       "     'answers': [{'text': 'London', 'answer_start': 765}],\n",
       "     'is_impossible': False},\n",
       "    {'question': 'Beyonce was speaking about whom when she said her gift was \"finding the best qualities in every human being.\"?',\n",
       "     'id': '56bed5983aeaaa14008c94f7',\n",
       "     'answers': [{'text': 'her mother', 'answer_start': 1277}],\n",
       "     'is_impossible': False},\n",
       "    {'question': 'The Demand a Plan video campaign followed what tragic event?',\n",
       "     'id': '56bfed855a85de14001c7864',\n",
       "     'answers': [{'text': 'Sandy Hook Elementary School shooting.',\n",
       "       'answer_start': 280}],\n",
       "     'is_impossible': False},\n",
       "    {'question': 'What was the focus of the Gucci Chime for Change campaign?',\n",
       "     'id': '56bfed855a85de14001c7866',\n",
       "     'answers': [{'text': 'spread female empowerment', 'answer_start': 616}],\n",
       "     'is_impossible': False},\n",
       "    {'question': 'What crowdfunding platform was used in the concert?',\n",
       "     'id': '56bfed855a85de14001c7868',\n",
       "     'answers': [{'text': 'Catapult', 'answer_start': 1409}],\n",
       "     'is_impossible': False},\n",
       "    {'question': 'What is the name of the campaign that Beyoncé and others are involved in that deals with gun control?',\n",
       "     'id': '56d4fa2e2ccc5a1400d833ca',\n",
       "     'answers': [{'text': 'Demand A Plan', 'answer_start': 108}],\n",
       "     'is_impossible': False},\n",
       "    {'question': 'What school shooting prompted the creation of Demand A Plan?',\n",
       "     'id': '56d4fa2e2ccc5a1400d833cb',\n",
       "     'answers': [{'text': 'Sandy Hook Elementary School',\n",
       "       'answer_start': 280}],\n",
       "     'is_impossible': False},\n",
       "    {'question': 'What song did Beyoncé donate to the 2012 World Humanitarian Day campaign?',\n",
       "     'id': '56d4fa2e2ccc5a1400d833cc',\n",
       "     'answers': [{'text': 'I Was Here', 'answer_start': 412}],\n",
       "     'is_impossible': False},\n",
       "    {'question': 'Who did Beyoncé work with in 2013 on the Chime for Change campaign?',\n",
       "     'id': '56d4fa2e2ccc5a1400d833cd',\n",
       "     'answers': [{'text': 'Salma Hayek and Frida Giannini',\n",
       "       'answer_start': 533}],\n",
       "     'is_impossible': False}],\n",
       "   'context': 'In December, Beyoncé along with a variety of other celebrities teamed up and produced a video campaign for \"Demand A Plan\", a bipartisan effort by a group of 950 US mayors and others designed to influence the federal government into rethinking its gun control laws, following the Sandy Hook Elementary School shooting. Beyoncé became an ambassador for the 2012 World Humanitarian Day campaign donating her song \"I Was Here\" and its music video, shot in the UN, to the campaign. In 2013, it was announced that Beyoncé would work with Salma Hayek and Frida Giannini on a Gucci \"Chime for Change\" campaign that aims to spread female empowerment. The campaign, which aired on February 28, was set to her new music. A concert for the cause took place on June 1, 2013 in London and included other acts like Ellie Goulding, Florence and the Machine, and Rita Ora. In advance of the concert, she appeared in a campaign video released on 15 May 2013, where she, along with Cameron Diaz, John Legend and Kylie Minogue, described inspiration from their mothers, while a number of other artists celebrated personal inspiration from other women, leading to a call for submission of photos of women of viewers\\' inspiration from which a selection was shown at the concert. Beyoncé said about her mother Tina Knowles that her gift was \"finding the best qualities in every human being.\" With help of the crowdfunding platform Catapult, visitors of the concert could choose between several projects promoting education of women and girls. Beyoncé is also taking part in \"Miss a Meal\", a food-donation campaign, and supporting Goodwill charity through online charity auctions at Charitybuzz that support job creation throughout Europe and the U.S.'}]}"
      ]
     },
     "execution_count": 7,
     "metadata": {},
     "output_type": "execute_result"
    }
   ],
   "source": [
    "df['data'][0]"
   ]
  },
  {
   "cell_type": "markdown",
   "metadata": {},
   "source": [
    "## Splitting to test and train sets"
   ]
  },
  {
   "cell_type": "code",
   "execution_count": 8,
   "metadata": {},
   "outputs": [
    {
     "name": "stdout",
     "output_type": "stream",
     "text": [
      "Data Count = 442\n"
     ]
    }
   ],
   "source": [
    "import random\n",
    "from sklearn.model_selection import train_test_split\n",
    "\n",
    "random.seed(100)\n",
    "print('Data Count = {0}'.format(len(df)))"
   ]
  },
  {
   "cell_type": "code",
   "execution_count": 9,
   "metadata": {},
   "outputs": [],
   "source": [
    "train, test= train_test_split(df, test_size=0.2)"
   ]
  },
  {
   "cell_type": "code",
   "execution_count": 10,
   "metadata": {},
   "outputs": [
    {
     "name": "stdout",
     "output_type": "stream",
     "text": [
      "Train set size = (353, 1)\n",
      "Test set size = (89, 1)\n"
     ]
    }
   ],
   "source": [
    "print('Train set size = {0}'.format(train.shape))\n",
    "print('Test set size = {0}'.format(test.shape))"
   ]
  },
  {
   "cell_type": "markdown",
   "metadata": {},
   "source": [
    "### Splitting Training Dataset into 2 datasets, 1. context paragraphs and 2. Questions/Answers"
   ]
  },
  {
   "cell_type": "code",
   "execution_count": 11,
   "metadata": {},
   "outputs": [],
   "source": [
    "contextID = 1\n",
    "questionAnswerData_train = pd.DataFrame()\n",
    "contextData_train = pd.DataFrame()\n",
    "\n",
    "## For training set\n",
    "for topic in train['data']:\n",
    "    for paras in topic[\"paragraphs\"]:\n",
    "        \n",
    "        questions = pd.DataFrame(paras[\"qas\"])\n",
    "        questions[\"contextID\"] = contextID\n",
    "        merging = [questionAnswerData_train, questions]\n",
    "        questionAnswerData_train = pd.concat(merging)\n",
    "        \n",
    "        context = pd.Series([paras[\"context\"]],name=\"context\")\n",
    "        context = context.to_frame()\n",
    "        context[\"contextID\"] = contextID\n",
    "        merging = [contextData_train, context]\n",
    "        contextData_train = pd.concat(merging)\n",
    "        \n",
    "        contextID = contextID +1\n",
    "    "
   ]
  },
  {
   "cell_type": "code",
   "execution_count": 12,
   "metadata": {},
   "outputs": [],
   "source": [
    "questionAnswerData_test = pd.DataFrame()\n",
    "contextData_test = pd.DataFrame()\n",
    "\n",
    "## For training set\n",
    "for topic in test['data']:\n",
    "    for paras in topic[\"paragraphs\"]:\n",
    "        \n",
    "        questions = pd.DataFrame(paras[\"qas\"])\n",
    "        questions[\"contextID\"] = contextID\n",
    "        merging = [questionAnswerData_test, questions]\n",
    "        questionAnswerData_test = pd.concat(merging)\n",
    "        \n",
    "        context = pd.Series([paras[\"context\"]],name=\"context\")\n",
    "        context = context.to_frame()\n",
    "        context[\"contextID\"] = contextID\n",
    "        merging = [contextData_test, context]\n",
    "        contextData_test = pd.concat(merging)\n",
    "        \n",
    "        contextID = contextID +1"
   ]
  },
  {
   "cell_type": "code",
   "execution_count": 13,
   "metadata": {},
   "outputs": [
    {
     "name": "stdout",
     "output_type": "stream",
     "text": [
      "Number of Context Paragraphs in Train = (14798, 2)\n",
      "Number of QA in Train = (104194, 6)\n",
      "Number of Context Paragraphs in Test = (4237, 2)\n",
      "Number of QA in Test = (26125, 6)\n"
     ]
    }
   ],
   "source": [
    "print('Number of Context Paragraphs in Train = {0}'.format(contextData_train.shape))\n",
    "print('Number of QA in Train = {0}'.format(questionAnswerData_train.shape))\n",
    "\n",
    "print('Number of Context Paragraphs in Test = {0}'.format(contextData_test.shape))\n",
    "print('Number of QA in Test = {0}'.format(questionAnswerData_test.shape))\n"
   ]
  },
  {
   "cell_type": "code",
   "execution_count": 14,
   "metadata": {},
   "outputs": [
    {
     "data": {
      "text/plain": [
       "Index(['context', 'contextID'], dtype='object')"
      ]
     },
     "execution_count": 14,
     "metadata": {},
     "output_type": "execute_result"
    }
   ],
   "source": [
    "contextData_train.columns"
   ]
  },
  {
   "cell_type": "code",
   "execution_count": 15,
   "metadata": {},
   "outputs": [],
   "source": [
    "contextData_train.to_excel(\"data/train/train_context.xlsx\", index =False)\n",
    "questionAnswerData_train.to_excel(\"data/train/train_QA.xlsx\", index =False)\n",
    "\n",
    "contextData_test.to_excel(\"data/test/test_context.xlsx\", index =False)\n",
    "questionAnswerData_test.to_excel(\"data/test/test_QA.xlsx\", index =False)"
   ]
  },
  {
   "cell_type": "markdown",
   "metadata": {},
   "source": [
    "PS. We understand that splitting of the dataset should be done after the EDA process, however since we are exploring the context paragraphs and QA separately, it would be computationally cheaper to also split the data into train and test dataset at this stage.\n",
    "\n",
    "The characteristic of the dataset where 1 context paragraph is linked to many Questions and Answers would mean having a very big and deep dataframe should we put it into a single dataframe which can be computationally expensive to process, thus we are splitting it into 2 datasets, one being the context and the second being the QnA. For us to trace back the question/answer to the relevant context paragraphs, with havev included a contextID which function as a key between the 2 datasets.\n"
   ]
  },
  {
   "cell_type": "code",
   "execution_count": null,
   "metadata": {},
   "outputs": [],
   "source": []
  }
 ],
 "metadata": {
  "kernelspec": {
   "display_name": "Python 3",
   "language": "python",
   "name": "python3"
  },
  "language_info": {
   "codemirror_mode": {
    "name": "ipython",
    "version": 3
   },
   "file_extension": ".py",
   "mimetype": "text/x-python",
   "name": "python",
   "nbconvert_exporter": "python",
   "pygments_lexer": "ipython3",
   "version": "3.8.5"
  }
 },
 "nbformat": 4,
 "nbformat_minor": 4
}
